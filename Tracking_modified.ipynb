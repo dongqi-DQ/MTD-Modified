{
 "cells": [
  {
   "cell_type": "code",
   "execution_count": 57,
   "id": "25590ede-1e4a-4083-8586-5a93f9c1ac69",
   "metadata": {},
   "outputs": [],
   "source": [
    "import os\n",
    "import numpy as np\n",
    "from scipy import ndimage\n",
    "from skimage.measure import label\n",
    "from scipy import ndimage\n",
    "import numpy as np\n",
    "from skimage.measure import label\n",
    "from skimage.measure import regionprops\n",
    "from collections import OrderedDict\n",
    "import os\n",
    "import xarray as xr\n",
    "from glob import glob\n",
    "from tqdm import tqdm\n",
    "from multiprocess import Pool\n",
    "\n",
    "# from Libraries.convolve import convolve\n",
    "# from Libraries.Track import Track\n",
    "\n"
   ]
  },
  {
   "cell_type": "code",
   "execution_count": 2,
   "id": "476050c2-02ca-4dd7-8bd0-806ca5e395b2",
   "metadata": {},
   "outputs": [],
   "source": [
    "def convolve(two_d_arrr,R,Th, a_filter_size = 5, area_filter = True):\n",
    "    '''\n",
    "    R: smoothing window\n",
    "    Th: threshold \n",
    "    a_filter_size: the size of small area to filter out\n",
    "    area_filter: whether to use area_filter or not\n",
    "    '''\n",
    "    two_d_arr=np.copy(two_d_arrr)\n",
    "    two_d_arr[two_d_arr<0]=0\n",
    "    two_d_arr[np.isnan(two_d_arr)]=0\n",
    "    convolved=ndimage.uniform_filter(two_d_arr, size=2*R+1, mode='constant')\n",
    "    convolved[convolved<Th]=0\n",
    "    convolved[convolved>0]=1\n",
    "    ## adding area size filter\n",
    "    if area_filter:\n",
    "        label_arr = label(convolved)\n",
    "        unique_label = np.unique(label_arr)\n",
    "        ### first filter out small objects\n",
    "        for i in unique_label:\n",
    "            if i == 0:\n",
    "                continue\n",
    "            else:\n",
    "                obj_area = np.sum(label_arr == i)\n",
    "                if obj_area <=a_filter_size:\n",
    "                    convolved[label_arr==i] = 0    \n",
    "    return convolved"
   ]
  },
  {
   "cell_type": "code",
   "execution_count": 12,
   "id": "c2340ed1-fcfa-405a-9abf-fb3f18e234a4",
   "metadata": {},
   "outputs": [],
   "source": [
    "def pre_process(ds, masked, var = \"rainrate\"):\n",
    "    ds[var] = ds[var].fillna(0).where(masked==1)\n",
    "    return ds"
   ]
  },
  {
   "cell_type": "code",
   "execution_count": 55,
   "id": "a1180032-f733-4311-ae51-4aaae3fd95a6",
   "metadata": {},
   "outputs": [],
   "source": [
    "def Track(fileno,file_address, masked, variable, label_0, r, th, area, output_path):\n",
    "    \n",
    "    \n",
    "    ### opening the input netcdf file\n",
    "    xr_data=xr.open_dataset(file_address)\n",
    "    xr_data = pre_process(xr_data, masked, variable)\n",
    "    ### creating object masks \n",
    "    MTD_mask_data=list()\n",
    "    for i in range(len(xr_data[variable])):\n",
    "        MTD_mask_data.append(convolve(xr_data[variable][i],r, th, area)[:,:])   \n",
    "    ### adding masks to the original data    \n",
    "    xr_data[\"MTD_masks\"]=([ 'time','y', 'x'],  MTD_mask_data)    \n",
    "    MTD_Cube=np.copy(xr_data[\"MTD_masks\"])\n",
    "\n",
    "    ### Tracked_maps: time series of maps of the tracked objects \n",
    "    Tracked_maps=list()\n",
    "    \n",
    "    ### IDNo: Current id for the detected object              \n",
    "    IDNo=label_0\n",
    "    \n",
    "    ### appendedpoints: this is the lists of merged or sperated objects\n",
    "    appendedpoints=list()\n",
    "    \n",
    "    for step in range(len(MTD_Cube)): \n",
    "        if step==0:\n",
    "            ### for this step we just name the objects randomly starting from IDNo (label_image is the map of detected objects at the current time step)\n",
    "            label_image = np.asarray(label(MTD_Cube[step]))+IDNo\n",
    "            \n",
    "            ### take the list of randomly named detected objects in the current precipitation map\n",
    "            obj_list_label_image=np.unique(label_image)\n",
    "            obj_list_label_image=obj_list_label_image[obj_list_label_image>0]\n",
    "            Tracked_maps.append(label_image)\n",
    "            IDNo=IDNo+int(len(obj_list_label_image))     \n",
    "        if step>0:\n",
    "            \n",
    "            ### In this section we find the objects (at the present time step) that are connected to the objects at previous time step in order to name after them\n",
    "            ### If the merge or split is occuring we name them with a different id number (IDno)            \n",
    "            label_image = label(MTD_Cube[step])  \n",
    "            \n",
    "            ### object properties at current time steps\n",
    "            label_image_prop=regionprops(label_image)\n",
    "            \n",
    "            ### object properties at previous time step\n",
    "            Mod_Objects_prop=regionprops(Tracked_maps[-1])\n",
    "    \n",
    "            ### we use temp3dobj to connect object maps at previous and current time step\n",
    "            Temp3Dobj=list()\n",
    "            Temp3Dobj.append(np.copy(Tracked_maps[-1]))\n",
    "            Temp3Dobj.append(np.copy(label_image))\n",
    "            Temp3Dobj[0][Temp3Dobj[0]>0]=1\n",
    "            Temp3Dobj[1][Temp3Dobj[1]>0]=1\n",
    "     \n",
    "            ### identifying the connected objects in time\n",
    "            label_image3D=label(np.asarray(Temp3Dobj)) \n",
    "            label_image3D_prop=regionprops(label_image3D)\n",
    "            for label_image3D_member in label_image3D_prop:\n",
    "                \n",
    "                ### label_image3D_member.bbox shows the 3d box fits the object element 3 and zero is for time dimension for examle :(0, 166, 79, 1, 173, 82)\n",
    "                if label_image3D_member.bbox[3]==2 and label_image3D_member.bbox[0]==0:   ### this condition is for the objects connected in time\n",
    "                    \n",
    "                    ### omitting all other objects except the selected one ### slice0 and slice1 are for selected connected object at two different time steps\n",
    "                    imagevaset0=np.copy(label_image3D_member._label_image[0])\n",
    "                    imagevaset0[imagevaset0 != label_image3D_member.label]=0                  \n",
    "                    label_image3D_slice0=regionprops(np.asarray(imagevaset0))\n",
    "                    imagevaset1=np.copy(label_image3D_member._label_image[1])\n",
    "                    imagevaset1[imagevaset1 != label_image3D_member.label]=0\n",
    "                    label_image3D_slice1=regionprops(np.asarray(imagevaset1))\n",
    "      \n",
    "                    ### Handling split/merge events: in this section we are using the centroid of the connected objects in time at each time step to detect split/merge events\n",
    "                    MergFinder=1\n",
    "                    for Mod_Objects_prop_member in Mod_Objects_prop:\n",
    "                        ### ckecking if the centorid of slice 0 from a label 3d output is equivalent with the object's cetroid from previuos step or not\n",
    "                        if label_image3D_slice0[0].centroid == Mod_Objects_prop_member.centroid:\n",
    "                             newlabel=Mod_Objects_prop_member.label\n",
    "                             MergFinder=0 \n",
    "                             \n",
    "                    SeperationFinder=1          \n",
    "                    for label_image_prop_member in label_image_prop:\n",
    "                         \n",
    "                         if label_image3D_slice1[0].centroid == label_image_prop_member.centroid:\n",
    "                             oldlabel=label_image_prop_member.label                           \n",
    "                             SeperationFinder=0 \n",
    "                           \n",
    "                    ### Handling merging events                \n",
    "                    if MergFinder==1 and SeperationFinder!=1:\n",
    "                        IDNo=IDNo+1\n",
    "                        newlabel=IDNo\n",
    "                        \n",
    "                        ### find the connected objects (with different ids) via merge events ... labels that are connected after each merging event    \n",
    "                        Devided_Merged_Last_Step_prop=regionprops(label(np.asarray(imagevaset0)))\n",
    "                        for obj0 in Devided_Merged_Last_Step_prop:\n",
    "                            for obj0ref in Mod_Objects_prop:         \n",
    "                                if obj0.centroid == obj0ref.centroid:\n",
    "                                    if (obj0ref.label,newlabel) not in appendedpoints and (newlabel,obj0ref.label) not in appendedpoints:\n",
    "                                        appendedpoints.append((obj0ref.label,newlabel))\n",
    "    \n",
    "                    if SeperationFinder==0:         \n",
    "                        label_image[label_image==oldlabel]=-1*newlabel  \n",
    "                                        \n",
    "                    ### handling the spliting events  : Note that if split and merge occurring at the same time, it is considered as a simple split.                  \n",
    "                    if SeperationFinder==1:\n",
    "                        oldlabellist=list()\n",
    "                        newlabellist=list()\n",
    "                        centroids1=list()\n",
    "                        Area1=list()\n",
    "                        plist=list()\n",
    "                        ID1=list()    \n",
    "                        Devided_Merged_Current_Step_prop=regionprops(label(np.asarray(imagevaset1)))\n",
    "                        for objj in Devided_Merged_Current_Step_prop:\n",
    "                            for label_image_prop_member in label_image_prop:\n",
    "                                if objj.centroid == label_image_prop_member.centroid:\n",
    "                                    plist.append(label_image_prop_member.centroid)\n",
    "                                    oldlabellist.append(label_image_prop_member.label )\n",
    "                                    IDNo=IDNo+1\n",
    "                                    newlabellist.append(IDNo)  \n",
    "                                    centroids1.append(label_image_prop_member.centroid)\n",
    "                                    Area1.append(label_image_prop_member.area)\n",
    "                                    ID1.append(IDNo)                             \n",
    "                        iiii=0\n",
    "                        for labels in oldlabellist: \n",
    "                            label_image[label_image==labels]=-1*newlabellist[iiii]                       \n",
    "                            iiii=iiii+1       \n",
    "                        Area0=list()\n",
    "                        centroids0=list()\n",
    "                        ID0=list()\n",
    "                        Devided_Merged_Last_Step_prop=regionprops(label(np.asarray(imagevaset0)))\n",
    "                        for obj0 in Devided_Merged_Last_Step_prop:\n",
    "                            for obj0ref in Mod_Objects_prop:         \n",
    "                                if obj0.centroid == obj0ref.centroid:\n",
    "                                    Area0.append(obj0ref.area)\n",
    "                                    centroids0.append(obj0ref.centroid)\n",
    "                                    ID0.append(obj0ref.label)  \n",
    "                        for r0 in range(len(Area0)):\n",
    "                            for r1 in range(len(Area1)):\n",
    "                                p0=ID0[r0]\n",
    "                                p1=ID1[r1]\n",
    "                                if (p0,p1) not in appendedpoints and (p1,p0) not in appendedpoints:\n",
    "                                    appendedpoints.append((p0,p1))\n",
    "    \n",
    "                ### Handling newly appeared objects:\n",
    "                if label_image3D_member.bbox[3]==2 and label_image3D_member.bbox[0]==1: ### this is for new objects appear in the current time step\n",
    "                    IDNo=IDNo+1\n",
    "                    for label_image_prop_member in label_image_prop:\n",
    "                        x=label_image3D_member.centroid[1]\n",
    "                        y=label_image3D_member.centroid[2]\n",
    "                        if (x,y) == label_image_prop_member.centroid:\n",
    "                            oldlabel=label_image_prop_member.label \n",
    "                            newlabel=IDNo\n",
    "                    label_image[label_image==oldlabel]=-1*newlabel\n",
    "            label_image=np.absolute(label_image)  \n",
    "            Tracked_maps.append(label_image)\n",
    "            \n",
    "    ### list of connected objects in time        \n",
    "    Connections= list(OrderedDict.fromkeys(appendedpoints))    \n",
    "    \n",
    "    ### Adding the tracked objects into the original input file\n",
    "    xr_data[\"MTD_tracked\"]=([ 'time','y', 'x'],  Tracked_maps)\n",
    "    if len(Connections)>0:\n",
    "        Connected_objects = xr.DataArray(data=Connections,dims=[\"x\", \"y\"],coords=dict(x=([\"x\"], np.arange(len(Connections))),y=([\"y\"],np.arange(2) )),attrs=dict(description=\"Connected objects via split/merge events\", units=\"object no.\", ),)\n",
    "    else:\n",
    "        Connections = np.zeros((2,2)) ## dummy\n",
    "        Connected_objects = xr.DataArray(data=Connections,dims=[\"x\", \"y\"],coords=dict(x=([\"x\"], np.arange(len(Connections))),y=([\"y\"],np.arange(2) )),attrs=dict(description=\"Connected objects via split/merge events\", units=\"object no.\", ),)\n",
    "\n",
    "    ### saving the outputs\n",
    "    if not os.path.exists(output_path+\"/Output/\"):\n",
    "        os.makedirs(output_path+\"/Output/\")\n",
    "    xr_data.to_netcdf(path=output_path+\"/Output/\"+str(fileno)+\"_Tracked.nc\")\n",
    "    Connected_objects = Connected_objects.to_dataset(name=\"connected_objects\")\n",
    "    Connected_objects.to_netcdf(path=output_path+\"/Output/\"+str(fileno)+\"_Connected_objects.nc\")\n",
    "    \n",
    "    ### returning the outputs\n",
    "    return xr_data,Connected_objects"
   ]
  },
  {
   "cell_type": "code",
   "execution_count": 24,
   "id": "77911a15-1815-45c8-8de9-b51ae8b5ed5b",
   "metadata": {},
   "outputs": [],
   "source": [
    "files=sorted(glob(\"/g/data/rq0/admin/level_2_decomissioned_fields/3/RAINRATE/3_*_rainrate.nc\"))\n",
    "masked = np.load(\"/g/data/w40/dl6968/CLEX_analysis/radar_level2_masked_array_150km.npy\",allow_pickle=True)\n"
   ]
  },
  {
   "cell_type": "code",
   "execution_count": 58,
   "id": "7bf93cc3-e812-4a1b-8edc-d12f0daa7469",
   "metadata": {},
   "outputs": [],
   "source": [
    "def run_tracking(file):\n",
    "    \n",
    "    ds = xr.open_dataset(file)\n",
    "    ds = pre_process(ds,masked, \"rainrate\")\n",
    "    if np.isnan(ds.rainrate.mean()) or ds.rainrate.mean()==0:\n",
    "        print(\"All NaN or zeros \"+file[-20:-12])\n",
    "    else:\n",
    "        file_address,variable,label_0,th,r,area=file,'rainrate',0,3,3,5    \n",
    "        xr_tracked,connected_objs=Track(file[-20:-12],file_address, masked, variable, label_0, th, r, area, \"/scratch/k10/dl6968/\")\n",
    "    ds.close()"
   ]
  },
  {
   "cell_type": "code",
   "execution_count": null,
   "id": "18b852ef-1b28-4a73-86e9-8d132e2b354d",
   "metadata": {},
   "outputs": [
    {
     "name": "stderr",
     "output_type": "stream",
     "text": [
      "  0%|          | 0/8309 [00:00<?, ?it/s]"
     ]
    },
    {
     "name": "stdout",
     "output_type": "stream",
     "text": [
      "All NaN or zeros 19970101\n"
     ]
    },
    {
     "name": "stderr",
     "output_type": "stream",
     "text": [
      " 24%|██▎       | 1970/8309 [10:33<33:31,  3.15it/s]  "
     ]
    },
    {
     "name": "stdout",
     "output_type": "stream",
     "text": [
      "All NaN or zeros 20031215\n"
     ]
    },
    {
     "name": "stderr",
     "output_type": "stream",
     "text": [
      " 34%|███▍      | 2810/8309 [16:32<31:34,  2.90it/s]  "
     ]
    },
    {
     "name": "stdout",
     "output_type": "stream",
     "text": [
      "All NaN or zeros 20060505\n"
     ]
    },
    {
     "name": "stderr",
     "output_type": "stream",
     "text": [
      " 52%|█████▏    | 4360/8309 [25:51<22:54,  2.87it/s]  "
     ]
    },
    {
     "name": "stdout",
     "output_type": "stream",
     "text": [
      "All NaN or zeros 20110516\n"
     ]
    },
    {
     "name": "stderr",
     "output_type": "stream",
     "text": [
      " 53%|█████▎    | 4402/8309 [26:01<13:39,  4.77it/s]"
     ]
    },
    {
     "name": "stdout",
     "output_type": "stream",
     "text": [
      "All NaN or zeros 20110619\n"
     ]
    },
    {
     "name": "stderr",
     "output_type": "stream",
     "text": [
      " 53%|█████▎    | 4409/8309 [26:10<27:54,  2.33it/s]"
     ]
    },
    {
     "name": "stdout",
     "output_type": "stream",
     "text": [
      "All NaN or zeros 20110708\n",
      "All NaN or zeros 20110711\n"
     ]
    },
    {
     "name": "stderr",
     "output_type": "stream",
     "text": [
      " 57%|█████▋    | 4722/8309 [27:48<14:22,  4.16it/s]  "
     ]
    },
    {
     "name": "stdout",
     "output_type": "stream",
     "text": [
      "All NaN or zeros 20120518\n",
      "All NaN or zeros 20120522\n",
      "All NaN or zeros 20120603\n"
     ]
    },
    {
     "name": "stderr",
     "output_type": "stream",
     "text": [
      " 70%|███████   | 5842/8309 [37:11<19:11,  2.14it/s]  "
     ]
    },
    {
     "name": "stdout",
     "output_type": "stream",
     "text": [
      "All NaN or zeros 20150611\n"
     ]
    },
    {
     "name": "stderr",
     "output_type": "stream",
     "text": [
      " 70%|███████   | 5844/8309 [37:17<27:54,  1.47it/s]"
     ]
    },
    {
     "name": "stdout",
     "output_type": "stream",
     "text": [
      "All NaN or zeros 20150628\n"
     ]
    },
    {
     "name": "stderr",
     "output_type": "stream",
     "text": [
      " 71%|███████   | 5868/8309 [37:23<18:37,  2.18it/s]"
     ]
    },
    {
     "name": "stdout",
     "output_type": "stream",
     "text": [
      "All NaN or zeros 20150705\n",
      "All NaN or zeros 20150704\n",
      "All NaN or zeros 20150714\n",
      "All NaN or zeros 20150725\n",
      "All NaN or zeros 20150726\n",
      "All NaN or zeros 20150727\n"
     ]
    },
    {
     "name": "stderr",
     "output_type": "stream",
     "text": [
      " 71%|███████   | 5869/8309 [37:32<40:31,  1.00it/s]"
     ]
    },
    {
     "name": "stdout",
     "output_type": "stream",
     "text": [
      "All NaN or zeros 20150729\n",
      "All NaN or zeros 20150731\n"
     ]
    },
    {
     "name": "stderr",
     "output_type": "stream",
     "text": [
      " 71%|███████   | 5900/8309 [37:32<10:24,  3.86it/s]"
     ]
    },
    {
     "name": "stdout",
     "output_type": "stream",
     "text": [
      "All NaN or zeros 20150804\n"
     ]
    },
    {
     "name": "stderr",
     "output_type": "stream",
     "text": [
      " 71%|███████   | 5907/8309 [37:34<10:33,  3.79it/s]"
     ]
    },
    {
     "name": "stdout",
     "output_type": "stream",
     "text": [
      "All NaN or zeros 20150808\n"
     ]
    },
    {
     "name": "stderr",
     "output_type": "stream",
     "text": [
      " 71%|███████   | 5912/8309 [37:34<09:27,  4.22it/s]"
     ]
    },
    {
     "name": "stdout",
     "output_type": "stream",
     "text": [
      "All NaN or zeros 20150810\n",
      "All NaN or zeros 20150813\n",
      "All NaN or zeros 20150811\n",
      "All NaN or zeros 20150818\n"
     ]
    },
    {
     "name": "stderr",
     "output_type": "stream",
     "text": [
      " 79%|███████▉  | 6569/8309 [42:46<22:21,  1.30it/s]  "
     ]
    },
    {
     "name": "stdout",
     "output_type": "stream",
     "text": [
      "All NaN or zeros 20170727\n"
     ]
    },
    {
     "name": "stderr",
     "output_type": "stream",
     "text": [
      " 87%|████████▋ | 7256/8309 [47:52<04:27,  3.94it/s]"
     ]
    }
   ],
   "source": [
    "# use multiprocess  \n",
    "# max_pool means maximum CPU to use\n",
    "max_pool = 12\n",
    "\n",
    "with Pool(max_pool) as p:\n",
    "    pool_outputs = list(\n",
    "        tqdm(\n",
    "            p.imap(run_tracking,\n",
    "                   files),\n",
    "            total=len(files),\n",
    "            position=0, leave=True\n",
    "        )\n",
    "    )\n",
    "p.join()"
   ]
  },
  {
   "cell_type": "code",
   "execution_count": null,
   "id": "49bd8171-c3bd-4dc2-9543-03ad7b77e489",
   "metadata": {},
   "outputs": [],
   "source": []
  }
 ],
 "metadata": {
  "kernelspec": {
   "display_name": "Python [conda env:myenv]",
   "language": "python",
   "name": "conda-env-myenv-py"
  },
  "language_info": {
   "codemirror_mode": {
    "name": "ipython",
    "version": 3
   },
   "file_extension": ".py",
   "mimetype": "text/x-python",
   "name": "python",
   "nbconvert_exporter": "python",
   "pygments_lexer": "ipython3",
   "version": "3.9.7"
  }
 },
 "nbformat": 4,
 "nbformat_minor": 5
}
